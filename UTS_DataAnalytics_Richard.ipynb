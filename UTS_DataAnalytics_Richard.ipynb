{
  "nbformat": 4,
  "nbformat_minor": 0,
  "metadata": {
    "colab": {
      "name": "UTS_DataAnalytics_Richard.ipynb",
      "provenance": [],
      "collapsed_sections": [],
      "authorship_tag": "ABX9TyOOahRDXFecEIXLBInREvgJ",
      "include_colab_link": true
    },
    "kernelspec": {
      "name": "python3",
      "display_name": "Python 3"
    },
    "language_info": {
      "name": "python"
    }
  },
  "cells": [
    {
      "cell_type": "markdown",
      "metadata": {
        "id": "view-in-github",
        "colab_type": "text"
      },
      "source": [
        "<a href=\"https://colab.research.google.com/github/richardsoesantoe/tugas4_data_analytic/blob/main/UTS_DataAnalytics_Richard.ipynb\" target=\"_parent\"><img src=\"https://colab.research.google.com/assets/colab-badge.svg\" alt=\"Open In Colab\"/></a>"
      ]
    },
    {
      "cell_type": "code",
      "execution_count": 32,
      "metadata": {
        "colab": {
          "base_uri": "https://localhost:8080/",
          "height": 563
        },
        "id": "wu70Ll4tA3IP",
        "outputId": "98cb3cf2-6f31-4eec-cfc8-df5b4b359117"
      },
      "outputs": [
        {
          "output_type": "stream",
          "name": "stdout",
          "text": [
            "              precision    recall  f1-score   support\n",
            "\n",
            "           F       0.69      0.76      0.72        33\n",
            "           M       0.73      0.67      0.70        33\n",
            "\n",
            "    accuracy                           0.71        66\n",
            "   macro avg       0.71      0.71      0.71        66\n",
            "weighted avg       0.71      0.71      0.71        66\n",
            "\n",
            "<sklearn.metrics._plot.confusion_matrix.ConfusionMatrixDisplay object at 0x7f85a2389190>\n"
          ]
        },
        {
          "output_type": "stream",
          "name": "stderr",
          "text": [
            "/usr/local/lib/python3.7/dist-packages/sklearn/utils/deprecation.py:87: FutureWarning:\n",
            "\n",
            "Function plot_confusion_matrix is deprecated; Function `plot_confusion_matrix` is deprecated in 1.0 and will be removed in 1.2. Use one of the class methods: ConfusionMatrixDisplay.from_predictions or ConfusionMatrixDisplay.from_estimator.\n",
            "\n"
          ]
        },
        {
          "output_type": "display_data",
          "data": {
            "text/plain": [
              "<Figure size 432x288 with 2 Axes>"
            ],
            "image/png": "[encoded data removed]"
          },
          "metadata": {}
        }
      ],
      "source": [
        "# Richard Susanto\n",
        "# 20101053\n",
        "# Kelas A Data Analytics\n",
        "\n",
        "import pandas as pd\n",
        "from sklearn.naive_bayes import GaussianNB\n",
        "from sklearn.metrics import classification_report, plot_confusion_matrix\n",
        "import matplotlib.pyplot as plt\n",
        "from sklearn.pipeline import Pipeline\n",
        "from sklearn.preprocessing import StandardScaler\n",
        "from sklearn.preprocessing import OneHotEncoder\n",
        "\n",
        "# Input data files are available in the read-only \"../input/\" directory\n",
        "# For example, running this (by clicking run or pressing Shift+Enter) will list all files under the input directory\n",
        "\n",
        "import os\n",
        "for dirname, _, filenames in os.walk('/kaggle/input'):\n",
        "    for filename in filenames:\n",
        "        print(os.path.join(dirname, filename))\n",
        "\n",
        "# You can write up to 5GB to the current directory (/kaggle/working/) that gets preserved as output when you create a version using \"Save & Run All\" \n",
        "# You can also write temporary files to /kaggle/temp/, but they won't be saved outside of the current session\n",
        "\n",
        "df = pd.read_csv(\"../content/Transformed Data Set - Sheet1.csv\")\n",
        "df.describe()\n",
        "\n",
        "X = df.iloc[:, 0:4]\n",
        "y = df.iloc[:, 4]\n",
        "\n",
        "clf = Pipeline(steps=[\n",
        "    (\"onehot\", OneHotEncoder(handle_unknown='ignore', sparse=False)),\n",
        "    (\"scaler\", StandardScaler()),\n",
        "    (\"model\", GaussianNB()),\n",
        "])\n",
        "\n",
        "clf.fit(X, y)\n",
        "print(classification_report(y, clf.predict(X)))\n",
        "print(plot_confusion_matrix(clf, X, y, cmap=plt.cm.Blues,\n",
        "                            display_labels=['Male', 'Female']))\n",
        "\n"
      ]
    }
  ]
}